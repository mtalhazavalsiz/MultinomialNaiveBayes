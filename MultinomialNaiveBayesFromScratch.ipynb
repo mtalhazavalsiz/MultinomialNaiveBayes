{
  "nbformat": 4,
  "nbformat_minor": 0,
  "metadata": {
    "colab": {
      "provenance": [],
      "collapsed_sections": []
    },
    "kernelspec": {
      "name": "python3",
      "display_name": "Python 3"
    },
    "language_info": {
      "name": "python"
    }
  },
  "cells": [
    {
      "cell_type": "code",
      "source": [
        "#Author: Muhammed Talha ZAVALSIZ\n",
        "\n",
        "#Date : 30.10.2022\n",
        "\n",
        "# Machine Learning Homework 1 - Multinomial Naive Bayes"
      ],
      "metadata": {
        "id": "50TGrabtnpcO"
      },
      "execution_count": 21,
      "outputs": []
    },
    {
      "cell_type": "markdown",
      "source": [
        "# **Question 2.1. Class Distribution**"
      ],
      "metadata": {
        "id": "T8S2VzF6HbDJ"
      }
    },
    {
      "cell_type": "code",
      "source": [
        "import numpy as np\n",
        "import pandas as pd\n",
        "!pip install matplotlib\n",
        "import matplotlib.pyplot as plt"
      ],
      "metadata": {
        "colab": {
          "base_uri": "https://localhost:8080/"
        },
        "id": "46oK7a5zHjvh",
        "outputId": "b703c801-2229-403c-dde0-5f8fc5d9544b"
      },
      "execution_count": 22,
      "outputs": [
        {
          "output_type": "stream",
          "name": "stdout",
          "text": [
            "Looking in indexes: https://pypi.org/simple, https://us-python.pkg.dev/colab-wheels/public/simple/\n",
            "Requirement already satisfied: matplotlib in /usr/local/lib/python3.7/dist-packages (3.2.2)\n",
            "Requirement already satisfied: python-dateutil>=2.1 in /usr/local/lib/python3.7/dist-packages (from matplotlib) (2.8.2)\n",
            "Requirement already satisfied: cycler>=0.10 in /usr/local/lib/python3.7/dist-packages (from matplotlib) (0.11.0)\n",
            "Requirement already satisfied: pyparsing!=2.0.4,!=2.1.2,!=2.1.6,>=2.0.1 in /usr/local/lib/python3.7/dist-packages (from matplotlib) (3.0.9)\n",
            "Requirement already satisfied: kiwisolver>=1.0.1 in /usr/local/lib/python3.7/dist-packages (from matplotlib) (1.4.4)\n",
            "Requirement already satisfied: numpy>=1.11 in /usr/local/lib/python3.7/dist-packages (from matplotlib) (1.21.6)\n",
            "Requirement already satisfied: typing-extensions in /usr/local/lib/python3.7/dist-packages (from kiwisolver>=1.0.1->matplotlib) (4.1.1)\n",
            "Requirement already satisfied: six>=1.5 in /usr/local/lib/python3.7/dist-packages (from python-dateutil>=2.1->matplotlib) (1.15.0)\n"
          ]
        }
      ]
    },
    {
      "cell_type": "code",
      "source": [
        "from google.colab import files\n",
        "uploaded = files.upload()"
      ],
      "metadata": {
        "colab": {
          "base_uri": "https://localhost:8080/",
          "height": 107
        },
        "id": "CETM052RHoGt",
        "outputId": "6c514019-e80e-4df9-c860-f0eefaaf6f20"
      },
      "execution_count": 25,
      "outputs": [
        {
          "output_type": "display_data",
          "data": {
            "text/plain": [
              "<IPython.core.display.HTML object>"
            ],
            "text/html": [
              "\n",
              "     <input type=\"file\" id=\"files-593fc80f-618a-4cf0-a539-a297ae1062c8\" name=\"files[]\" multiple disabled\n",
              "        style=\"border:none\" />\n",
              "     <output id=\"result-593fc80f-618a-4cf0-a539-a297ae1062c8\">\n",
              "      Upload widget is only available when the cell has been executed in the\n",
              "      current browser session. Please rerun this cell to enable.\n",
              "      </output>\n",
              "      <script>// Copyright 2017 Google LLC\n",
              "//\n",
              "// Licensed under the Apache License, Version 2.0 (the \"License\");\n",
              "// you may not use this file except in compliance with the License.\n",
              "// You may obtain a copy of the License at\n",
              "//\n",
              "//      http://www.apache.org/licenses/LICENSE-2.0\n",
              "//\n",
              "// Unless required by applicable law or agreed to in writing, software\n",
              "// distributed under the License is distributed on an \"AS IS\" BASIS,\n",
              "// WITHOUT WARRANTIES OR CONDITIONS OF ANY KIND, either express or implied.\n",
              "// See the License for the specific language governing permissions and\n",
              "// limitations under the License.\n",
              "\n",
              "/**\n",
              " * @fileoverview Helpers for google.colab Python module.\n",
              " */\n",
              "(function(scope) {\n",
              "function span(text, styleAttributes = {}) {\n",
              "  const element = document.createElement('span');\n",
              "  element.textContent = text;\n",
              "  for (const key of Object.keys(styleAttributes)) {\n",
              "    element.style[key] = styleAttributes[key];\n",
              "  }\n",
              "  return element;\n",
              "}\n",
              "\n",
              "// Max number of bytes which will be uploaded at a time.\n",
              "const MAX_PAYLOAD_SIZE = 100 * 1024;\n",
              "\n",
              "function _uploadFiles(inputId, outputId) {\n",
              "  const steps = uploadFilesStep(inputId, outputId);\n",
              "  const outputElement = document.getElementById(outputId);\n",
              "  // Cache steps on the outputElement to make it available for the next call\n",
              "  // to uploadFilesContinue from Python.\n",
              "  outputElement.steps = steps;\n",
              "\n",
              "  return _uploadFilesContinue(outputId);\n",
              "}\n",
              "\n",
              "// This is roughly an async generator (not supported in the browser yet),\n",
              "// where there are multiple asynchronous steps and the Python side is going\n",
              "// to poll for completion of each step.\n",
              "// This uses a Promise to block the python side on completion of each step,\n",
              "// then passes the result of the previous step as the input to the next step.\n",
              "function _uploadFilesContinue(outputId) {\n",
              "  const outputElement = document.getElementById(outputId);\n",
              "  const steps = outputElement.steps;\n",
              "\n",
              "  const next = steps.next(outputElement.lastPromiseValue);\n",
              "  return Promise.resolve(next.value.promise).then((value) => {\n",
              "    // Cache the last promise value to make it available to the next\n",
              "    // step of the generator.\n",
              "    outputElement.lastPromiseValue = value;\n",
              "    return next.value.response;\n",
              "  });\n",
              "}\n",
              "\n",
              "/**\n",
              " * Generator function which is called between each async step of the upload\n",
              " * process.\n",
              " * @param {string} inputId Element ID of the input file picker element.\n",
              " * @param {string} outputId Element ID of the output display.\n",
              " * @return {!Iterable<!Object>} Iterable of next steps.\n",
              " */\n",
              "function* uploadFilesStep(inputId, outputId) {\n",
              "  const inputElement = document.getElementById(inputId);\n",
              "  inputElement.disabled = false;\n",
              "\n",
              "  const outputElement = document.getElementById(outputId);\n",
              "  outputElement.innerHTML = '';\n",
              "\n",
              "  const pickedPromise = new Promise((resolve) => {\n",
              "    inputElement.addEventListener('change', (e) => {\n",
              "      resolve(e.target.files);\n",
              "    });\n",
              "  });\n",
              "\n",
              "  const cancel = document.createElement('button');\n",
              "  inputElement.parentElement.appendChild(cancel);\n",
              "  cancel.textContent = 'Cancel upload';\n",
              "  const cancelPromise = new Promise((resolve) => {\n",
              "    cancel.onclick = () => {\n",
              "      resolve(null);\n",
              "    };\n",
              "  });\n",
              "\n",
              "  // Wait for the user to pick the files.\n",
              "  const files = yield {\n",
              "    promise: Promise.race([pickedPromise, cancelPromise]),\n",
              "    response: {\n",
              "      action: 'starting',\n",
              "    }\n",
              "  };\n",
              "\n",
              "  cancel.remove();\n",
              "\n",
              "  // Disable the input element since further picks are not allowed.\n",
              "  inputElement.disabled = true;\n",
              "\n",
              "  if (!files) {\n",
              "    return {\n",
              "      response: {\n",
              "        action: 'complete',\n",
              "      }\n",
              "    };\n",
              "  }\n",
              "\n",
              "  for (const file of files) {\n",
              "    const li = document.createElement('li');\n",
              "    li.append(span(file.name, {fontWeight: 'bold'}));\n",
              "    li.append(span(\n",
              "        `(${file.type || 'n/a'}) - ${file.size} bytes, ` +\n",
              "        `last modified: ${\n",
              "            file.lastModifiedDate ? file.lastModifiedDate.toLocaleDateString() :\n",
              "                                    'n/a'} - `));\n",
              "    const percent = span('0% done');\n",
              "    li.appendChild(percent);\n",
              "\n",
              "    outputElement.appendChild(li);\n",
              "\n",
              "    const fileDataPromise = new Promise((resolve) => {\n",
              "      const reader = new FileReader();\n",
              "      reader.onload = (e) => {\n",
              "        resolve(e.target.result);\n",
              "      };\n",
              "      reader.readAsArrayBuffer(file);\n",
              "    });\n",
              "    // Wait for the data to be ready.\n",
              "    let fileData = yield {\n",
              "      promise: fileDataPromise,\n",
              "      response: {\n",
              "        action: 'continue',\n",
              "      }\n",
              "    };\n",
              "\n",
              "    // Use a chunked sending to avoid message size limits. See b/62115660.\n",
              "    let position = 0;\n",
              "    do {\n",
              "      const length = Math.min(fileData.byteLength - position, MAX_PAYLOAD_SIZE);\n",
              "      const chunk = new Uint8Array(fileData, position, length);\n",
              "      position += length;\n",
              "\n",
              "      const base64 = btoa(String.fromCharCode.apply(null, chunk));\n",
              "      yield {\n",
              "        response: {\n",
              "          action: 'append',\n",
              "          file: file.name,\n",
              "          data: base64,\n",
              "        },\n",
              "      };\n",
              "\n",
              "      let percentDone = fileData.byteLength === 0 ?\n",
              "          100 :\n",
              "          Math.round((position / fileData.byteLength) * 100);\n",
              "      percent.textContent = `${percentDone}% done`;\n",
              "\n",
              "    } while (position < fileData.byteLength);\n",
              "  }\n",
              "\n",
              "  // All done.\n",
              "  yield {\n",
              "    response: {\n",
              "      action: 'complete',\n",
              "    }\n",
              "  };\n",
              "}\n",
              "\n",
              "scope.google = scope.google || {};\n",
              "scope.google.colab = scope.google.colab || {};\n",
              "scope.google.colab._files = {\n",
              "  _uploadFiles,\n",
              "  _uploadFilesContinue,\n",
              "};\n",
              "})(self);\n",
              "</script> "
            ]
          },
          "metadata": {}
        },
        {
          "output_type": "stream",
          "name": "stdout",
          "text": [
            "Saving bbcsports_train.csv to bbcsports_train (3).csv\n",
            "Saving bbcsports_val.csv to bbcsports_val (3).csv\n"
          ]
        }
      ]
    },
    {
      "cell_type": "code",
      "source": [
        "import io\n",
        "df1 = pd.read_csv(io.BytesIO(uploaded['bbcsports_train.csv']))\n",
        "df2 = pd.read_csv(io.BytesIO(uploaded['bbcsports_val.csv']))"
      ],
      "metadata": {
        "id": "9Q1ZH686HoON"
      },
      "execution_count": 26,
      "outputs": []
    },
    {
      "cell_type": "code",
      "source": [
        "from numpy import genfromtxt\n",
        "my_data = genfromtxt('bbcsports_train.csv', delimiter=',')\n",
        "my_data2 = genfromtxt('bbcsports_val.csv',delimiter=',')\n",
        "\n",
        "#Below, i preprocess the data to only get the labels of validation set and training set.\n",
        "\n",
        "train_label = my_data[:,-1:]\n",
        "\n",
        "validation_label = my_data2[:,-1:]\n",
        "\n",
        "train_label = train_label[1:,:]\n",
        "\n",
        "validation_label = validation_label[1:,:]\n",
        "\n"
      ],
      "metadata": {
        "id": "G_RvlHf1Hzqs"
      },
      "execution_count": 27,
      "outputs": []
    },
    {
      "cell_type": "code",
      "source": [
        "df1['class_label'].value_counts()"
      ],
      "metadata": {
        "colab": {
          "base_uri": "https://localhost:8080/"
        },
        "id": "MDq2xHE_IpF0",
        "outputId": "dd944eb8-cd1d-4ddc-deeb-91346a715a94"
      },
      "execution_count": 28,
      "outputs": [
        {
          "output_type": "execute_result",
          "data": {
            "text/plain": [
              "2    198\n",
              "3    114\n",
              "1     86\n",
              "4     77\n",
              "0     77\n",
              "Name: class_label, dtype: int64"
            ]
          },
          "metadata": {},
          "execution_count": 28
        }
      ]
    },
    {
      "cell_type": "code",
      "source": [
        "df2['class_label'].value_counts()"
      ],
      "metadata": {
        "colab": {
          "base_uri": "https://localhost:8080/"
        },
        "id": "d8-lckGqX5bq",
        "outputId": "00461e06-cee1-4671-df80-a40ad478d80d"
      },
      "execution_count": 29,
      "outputs": [
        {
          "output_type": "execute_result",
          "data": {
            "text/plain": [
              "2    67\n",
              "1    38\n",
              "3    33\n",
              "0    24\n",
              "4    23\n",
              "Name: class_label, dtype: int64"
            ]
          },
          "metadata": {},
          "execution_count": 29
        }
      ]
    },
    {
      "cell_type": "code",
      "source": [
        "df1['class_label'].value_counts().plot.bar()"
      ],
      "metadata": {
        "colab": {
          "base_uri": "https://localhost:8080/",
          "height": 279
        },
        "id": "9bN0qk7OXuBh",
        "outputId": "c310f0ec-c1f5-4c09-a325-e844d7f4b16e"
      },
      "execution_count": 30,
      "outputs": [
        {
          "output_type": "execute_result",
          "data": {
            "text/plain": [
              "<matplotlib.axes._subplots.AxesSubplot at 0x7f1554dd7e90>"
            ]
          },
          "metadata": {},
          "execution_count": 30
        },
        {
          "output_type": "display_data",
          "data": {
            "text/plain": [
              "<Figure size 432x288 with 1 Axes>"
            ],
            "image/png": "[encoded data removed]"
          },
          "metadata": {
            "needs_background": "light"
          }
        }
      ]
    },
    {
      "cell_type": "code",
      "source": [
        "df2['class_label'].value_counts().plot.bar()"
      ],
      "metadata": {
        "colab": {
          "base_uri": "https://localhost:8080/",
          "height": 282
        },
        "id": "K5Ntf34WXuLy",
        "outputId": "a14a43eb-b410-4605-c093-82678ad83b23"
      },
      "execution_count": 31,
      "outputs": [
        {
          "output_type": "execute_result",
          "data": {
            "text/plain": [
              "<matplotlib.axes._subplots.AxesSubplot at 0x7f154ea9e950>"
            ]
          },
          "metadata": {},
          "execution_count": 31
        },
        {
          "output_type": "display_data",
          "data": {
            "text/plain": [
              "<Figure size 432x288 with 1 Axes>"
            ],
            "image/png": "[encoded data removed]"
          },
          "metadata": {
            "needs_background": "light"
          }
        }
      ]
    },
    {
      "cell_type": "markdown",
      "source": [
        "# **QUESTION 2.3. Naive Bayes Implementation without Smoothing**"
      ],
      "metadata": {
        "id": "Gy-dH-XOIsdH"
      }
    },
    {
      "cell_type": "code",
      "source": [
        "#Preprocess the data features for implementation.\n",
        "train_features = my_data[:,:-1]\n",
        "validation_features = my_data2[:,:-1]\n",
        "\n",
        "train_label = my_data[:,-1:]\n",
        "\n",
        "train_features = my_data[:,:-1]\n",
        "\n",
        "validation_label = my_data2[:,-1:]\n",
        "\n",
        "validation_features = my_data2[:,:-1]\n"
      ],
      "metadata": {
        "id": "WyeRbBPZI0yX"
      },
      "execution_count": 32,
      "outputs": []
    },
    {
      "cell_type": "code",
      "source": [
        "train_label = np.delete(train_label, 0, axis=0) # This was needed for the extracting the row of the train label since these were the vocabularies, which will not be used.\n",
        "\n",
        "\n",
        "train_features = np.delete(train_features, 0, axis=0) # Training dataset preprocessing is done, \n",
        "#we can see that we have 552 row for features and shape. 1 row for labels, 4613 row for features\n",
        "\n",
        "# The below code is returning the output of the priors for each class. There are 5 classes (class0,class1,class2,class3,class4)\n",
        "\n",
        "def prior():\n",
        "  \n",
        "\n",
        "  for outcome in np.unique(train_label):\n",
        "\n",
        "    outcome_count = 0\n",
        "\n",
        "    outcome_count = sum(train_label == outcome) \n",
        "\n",
        "    outcome = outcome_count / len(train_label)\n",
        "\n",
        "    print(outcome)\n",
        "\n",
        "prior()"
      ],
      "metadata": {
        "colab": {
          "base_uri": "https://localhost:8080/"
        },
        "id": "M5vM_aZ1JJet",
        "outputId": "0505427c-4029-4c38-ab68-0b71fe43454a"
      },
      "execution_count": 33,
      "outputs": [
        {
          "output_type": "stream",
          "name": "stdout",
          "text": [
            "[0.13949275]\n",
            "[0.1557971]\n",
            "[0.35869565]\n",
            "[0.20652174]\n",
            "[0.13949275]\n"
          ]
        }
      ]
    },
    {
      "cell_type": "code",
      "source": [
        "my_data_del = np.delete(my_data, 0, 0)\n",
        "\n",
        "my_data_del\n",
        "\n",
        "class_num = 5\n",
        "word_claass_count = np.zeros((my_data_del.shape[1]-1, class_num))\n",
        "word_claass_count_prob = np.zeros((my_data_del.shape[1]-1, class_num))\n",
        "count_all = 0\n",
        "for i in range(word_claass_count.shape[1]):\n",
        "  my_data_class = my_data_del[my_data_del[:,-1]==i]\n",
        "  class_count = np.sum(my_data_class)\n",
        "  count_all += class_count\n",
        "  print(class_count)\n",
        "  for j in range(word_claass_count.shape[0]):\n",
        "    count = np.sum(my_data_class[:,j])\n",
        "    word_claass_count[j,i] = count\n",
        "    word_claass_count_prob[j,i] = np.round(count/class_count, 4)\n",
        "\n",
        "    if word_claass_count_prob[j,i] != 0:\n",
        "\n",
        "      word_claass_count_prob[j,i] = np.log(word_claass_count_prob[j,i])\n",
        "\n",
        "prior0 = 0.13949275\n",
        "prior1 = 0.1557971\n",
        "prior2 = 0.35869565\n",
        "prior3 = 0.20652174\n",
        "prior4 = 0.13949275"
      ],
      "metadata": {
        "colab": {
          "base_uri": "https://localhost:8080/"
        },
        "id": "u64fKAUnJJhJ",
        "outputId": "d19fe021-e2d7-4439-e6ef-58a62310f16b"
      },
      "execution_count": 34,
      "outputs": [
        {
          "output_type": "stream",
          "name": "stdout",
          "text": [
            "11572.0\n",
            "17265.0\n",
            "31929.0\n",
            "21097.0\n",
            "11127.0\n"
          ]
        }
      ]
    },
    {
      "cell_type": "code",
      "source": [
        "numFeatures = len(train_features[0])\n",
        "\n",
        "matrixLikelihood0 = np.zeros(numFeatures)\n",
        "matrixLikelihood1 = np.zeros(numFeatures)\n",
        "matrixLikelihood2 = np.zeros(numFeatures)\n",
        "matrixLikelihood3 = np.zeros(numFeatures)\n",
        "matrixLikelihood4 = np.zeros(numFeatures)\n",
        "\n",
        "matrixLikelihood0 = word_claass_count_prob[:,0] # returns the first columm\n",
        "\n",
        "matrixLikelihood1 = word_claass_count_prob[:,1] # returns the second columm\n",
        "\n",
        "print(matrixLikelihood1)\n",
        "\n",
        "matrixLikelihood2 = word_claass_count_prob[:,2] # returns the third columm\n",
        "\n",
        "print(matrixLikelihood2)\n",
        "\n",
        "matrixLikelihood3 = word_claass_count_prob[:,3] # returns the fourth columm\n",
        "\n",
        "print(matrixLikelihood3)\n",
        "\n",
        "matrixLikelihood4 = word_claass_count_prob[:,4] # returns the fifth columm\n",
        "\n",
        "print(matrixLikelihood4)\n",
        "\n",
        "b0 = []\n",
        "\n",
        "b1 = []\n",
        "\n",
        "b2 = []\n",
        "\n",
        "b3 = []\n",
        "\n",
        "b4 = []\n",
        "\n",
        "\n",
        "for i in matrixLikelihood0:\n",
        "  \n",
        "  b0.append(i)\n",
        "\n",
        "for i in matrixLikelihood1:\n",
        "  \n",
        "  b1.append(i)\n",
        "\n",
        "for i in matrixLikelihood2:\n",
        "  \n",
        "  b2.append(i)\n",
        "\n",
        "for i in matrixLikelihood3:\n",
        "  \n",
        "  b3.append(i)\n",
        "\n",
        "for i in matrixLikelihood4:\n",
        "  \n",
        "  b4.append(i)\n",
        "\n",
        "\n",
        "for i in range(len(b0)):\n",
        "    x = b0[i]\n",
        "    if x == 0:\n",
        "       b0[i] = b0[i] + (-999999999999999999)\n",
        "\n",
        "\n",
        "for i in range(len(b1)):\n",
        "    x = b1[i]\n",
        "    if x == 0:\n",
        "       b1[i] = b1[i] + (-999999999999999999)\n",
        "\n",
        "\n",
        "for i in range(len(b2)):\n",
        "    x = b2[i]\n",
        "    if x == 0:\n",
        "       b2[i] = b2[i] + (-999999999999999999)\n",
        "\n",
        "\n",
        "for i in range(len(b3)):\n",
        "    x = b3[i]\n",
        "    if x == 0:\n",
        "       b3[i] = b3[i] + (-999999999999999999)\n",
        "\n",
        "\n",
        "for i in range(len(b4)):\n",
        "    x = b4[i]\n",
        "    if x == 0:\n",
        "       b4[i] = b4[i] + (-999999999999999999)\n",
        "\n",
        "\n",
        "arr = []\n",
        "\n",
        "for i in range(len(validation_features)):\n",
        "  posterior0 = float(0) + np.log(prior0)\n",
        "  posterior1 = float(0) + np.log(prior1)\n",
        "  posterior2 = float(0) + np.log(prior2)\n",
        "  posterior3 = float(0) + np.log(prior3)\n",
        "  posterior4 = float(0) + np.log(prior4)\n",
        "\n",
        "  \n",
        "  for j in range(numFeatures):\n",
        "    \n",
        "    posterior0 = posterior0 + float(b0[j] * validation_features[i][j]) \n",
        "    posterior1 = posterior1 + float(b1[j] * validation_features[i][j])\n",
        "    posterior2 = posterior2 + float(b2[j] * validation_features[i][j])\n",
        "    posterior3 = posterior3 + float(b3[j] * validation_features[i][j])\n",
        "    posterior4 = posterior4 + float(b4[j] * validation_features[i][j])\n",
        "    \n",
        "  \n",
        "  if posterior0 > (posterior1 and posterior2 and posterior3 and posterior4):\n",
        "    arr.append(0)\n",
        "\n",
        "  elif posterior1 > (posterior0 and posterior2 and posterior3 and posterior4):\n",
        "    arr.append(1)\n",
        "\n",
        "  elif posterior2 > (posterior1 and posterior0 and posterior3 and posterior4):\n",
        "    arr.append(2)\n",
        "\n",
        "  elif posterior3 > (posterior1 and posterior2 and posterior0 and posterior4):\n",
        "    arr.append(3)\n",
        "    \n",
        "  elif posterior4 > (posterior1 and posterior2 and posterior3 and posterior0):\n",
        "    arr.append(4)"
      ],
      "metadata": {
        "colab": {
          "base_uri": "https://localhost:8080/"
        },
        "id": "0SkZ7mpuJJjS",
        "outputId": "ff78f3ba-6510-4e85-9615-593b0ad05b33"
      },
      "execution_count": 35,
      "outputs": [
        {
          "output_type": "stream",
          "name": "stdout",
          "text": [
            "[ 0.         -8.51719319 -4.80362112 ...  0.          0.\n",
            "  0.        ]\n",
            "[ 0.         -9.21034037 -5.57275421 ...  0.          0.\n",
            "  0.        ]\n",
            "[ 0.          0.         -5.13280293 ...  0.          0.\n",
            "  0.        ]\n",
            "[ 0.          0.         -4.68855179 ... -8.11172808 -8.11172808\n",
            " -8.11172808]\n"
          ]
        }
      ]
    },
    {
      "cell_type": "code",
      "source": [
        "validation_label2 = validation_label[:,-1:]\n",
        "validation_label3 = np.delete(validation_label2, 0, 0)\n",
        "validation_label3 = validation_label3.astype(int)\n",
        "\n",
        "val_labels = validation_label3.reshape(-1)\n",
        "arr_labels = np.asarray(arr).reshape(-1)\n",
        "\n",
        "\n",
        "print(val_labels)\n",
        "print(arr_labels)\n",
        "print(val_labels==arr_labels)\n",
        "print(np.sum(val_labels==arr_labels))\n"
      ],
      "metadata": {
        "colab": {
          "base_uri": "https://localhost:8080/"
        },
        "id": "tElCKSoAJJlf",
        "outputId": "d06921fb-856d-447d-8fb2-1282bd7d922d"
      },
      "execution_count": 36,
      "outputs": [
        {
          "output_type": "stream",
          "name": "stdout",
          "text": [
            "[4 2 1 2 4 0 0 1 2 2 1 3 1 1 0 3 1 2 3 3 3 1 2 1 3 2 3 4 3 2 3 2 1 1 3 2 2\n",
            " 1 2 1 2 0 1 4 3 4 4 4 2 2 2 4 2 4 0 1 0 1 2 4 0 4 2 0 3 2 1 0 2 3 0 4 0 0\n",
            " 3 1 2 2 4 2 2 2 2 2 1 4 2 2 4 0 1 0 2 4 3 2 1 1 0 1 2 2 2 1 2 1 1 1 1 3 2\n",
            " 1 4 0 3 2 2 3 2 2 1 3 0 1 2 2 2 3 1 1 4 2 1 3 4 3 1 2 2 3 2 3 2 2 4 3 0 2\n",
            " 3 4 3 3 3 2 1 2 0 2 2 2 0 3 2 2 3 2 2 1 2 0 3 1 1 2 0 0 4 2 2 3 2 0 4 2 2]\n",
            "[4 0 1 0 4 0 0 0 0 2 1 0 0 0 0 0 1 0 0 0 0 0 1 0 0 0 2 4 0 1 0 0 0 1 0 0 0\n",
            " 1 0 1 2 0 1 4 1 4 4 4 0 0 2 4 1 4 0 1 0 1 0 4 0 0 2 0 0 2 0 0 2 0 0 4 0 0\n",
            " 0 1 1 2 4 0 0 0 0 0 1 4 0 2 4 0 0 0 0 4 0 0 1 1 0 0 0 0 0 0 0 0 1 0 1 0 0\n",
            " 1 4 0 0 0 1 0 0 1 0 0 0 1 0 1 0 0 1 1 4 0 1 0 4 0 0 0 1 0 0 0 0 1 4 0 0 1\n",
            " 0 4 1 0 0 0 1 0 0 0 0 0 0 0 0 0 0 0 0 1 2 0 0 1 0 2 0 0 4 0 0 0 1 0 4 0 0]\n",
            "[ True False  True False  True  True  True False False  True  True False\n",
            " False False  True False  True False False False False False False False\n",
            " False False False  True False False False False False  True False False\n",
            " False  True False  True  True  True  True  True False  True  True  True\n",
            " False False  True  True False  True  True  True  True  True False  True\n",
            "  True False  True  True False  True False  True  True False  True  True\n",
            "  True  True False  True False  True  True False False False False False\n",
            "  True  True False  True  True  True False  True False  True False False\n",
            "  True  True  True False False False False False False False  True False\n",
            "  True False False  True  True  True False False False False False False\n",
            " False False  True  True False False False False  True  True  True False\n",
            "  True False  True False False False False False False False False False\n",
            "  True False  True False False  True False False False False  True False\n",
            "  True False False False  True False False False False False False  True\n",
            "  True  True False  True False  True  True  True  True False False False\n",
            " False  True  True False False]\n",
            "79\n"
          ]
        }
      ]
    },
    {
      "cell_type": "code",
      "source": [
        "def plot_conf(actual, predicted):\n",
        "\n",
        "   \n",
        "    class_number = np.unique(actual)\n",
        "    confusion = np.zeros((5, 5))\n",
        "\n",
        "    for i in range(len(class_number)):\n",
        "        for j in range(len(class_number)):\n",
        "           confusion[i, j] = np.sum((actual == class_number[i]) & (predicted == class_number[j]))\n",
        "\n",
        "    return confusion\n",
        "\n",
        "plot_conf(val_labels,arr_labels)"
      ],
      "metadata": {
        "colab": {
          "base_uri": "https://localhost:8080/"
        },
        "id": "wi-Tyw2mJJns",
        "outputId": "d1622df9-4c47-4f18-bd09-863459630228"
      },
      "execution_count": 37,
      "outputs": [
        {
          "output_type": "execute_result",
          "data": {
            "text/plain": [
              "array([[24.,  0.,  0.,  0.,  0.],\n",
              "       [15., 23.,  0.,  0.,  0.],\n",
              "       [46., 11., 10.,  0.,  0.],\n",
              "       [30.,  2.,  1.,  0.,  0.],\n",
              "       [ 1.,  0.,  0.,  0., 22.]])"
            ]
          },
          "metadata": {},
          "execution_count": 37
        }
      ]
    },
    {
      "cell_type": "code",
      "source": [
        "a = (np.sum(val_labels==arr_labels))\n",
        "\n",
        "b = len(validation_label3) \n",
        "\n",
        "\n",
        "acc = (a / b) * 100\n",
        "\n",
        "print(f'Accuracy is {acc}')\n",
        "\n",
        "print(f'Number of false predictions are {b-a}')"
      ],
      "metadata": {
        "colab": {
          "base_uri": "https://localhost:8080/"
        },
        "id": "_phd2zV3LyKs",
        "outputId": "ed5442d0-a122-43f3-f750-a6c368dedb2b"
      },
      "execution_count": 38,
      "outputs": [
        {
          "output_type": "stream",
          "name": "stdout",
          "text": [
            "Accuracy is 42.7027027027027\n",
            "Number of false predictions are 106\n"
          ]
        }
      ]
    },
    {
      "cell_type": "markdown",
      "source": [
        "## `**QUESTION 2.3. Naive Bayes Implementation with Smoothing**`"
      ],
      "metadata": {
        "id": "BpE01UtMNSPB"
      }
    },
    {
      "cell_type": "code",
      "source": [
        "my_data_del = np.delete(my_data, 0, 0)\n",
        "\n",
        "class_num = 5\n",
        "\n",
        "word_claass_count = np.zeros((my_data_del.shape[1]-1, class_num)) \n",
        "word_claass_count_prob = np.zeros((my_data_del.shape[1]-1, class_num))\n",
        "count_all = 0\n",
        "for i in range(word_claass_count.shape[1]):\n",
        "  my_data_class = my_data_del[my_data_del[:,-1]==i]\n",
        "  class_count = np.sum(my_data_class)\n",
        "  count_all += class_count\n",
        "  print(class_count)\n",
        "  for j in range(word_claass_count.shape[0]):\n",
        "    count = np.sum(my_data_class[:,j])\n",
        "    word_claass_count[j,i] = count + 1\n",
        "    word_claass_count_prob[j,i] = (word_claass_count[j,i])/(class_count + len(train_features[0]))\n",
        "    \n",
        "    if word_claass_count_prob[j,i] != 0:\n",
        "\n",
        "      word_claass_count_prob[j,i] = np.log(word_claass_count_prob[j,i])\n",
        "\n",
        "prior0 = 0.13949275\n",
        "prior1 = 0.1557971\n",
        "prior2 = 0.35869565\n",
        "prior3 = 0.20652174\n",
        "prior4 = 0.13949275"
      ],
      "metadata": {
        "colab": {
          "base_uri": "https://localhost:8080/"
        },
        "id": "tjibKilLNZua",
        "outputId": "789033d7-1854-44f5-d3aa-ef3d357a986c"
      },
      "execution_count": 39,
      "outputs": [
        {
          "output_type": "stream",
          "name": "stdout",
          "text": [
            "11572.0\n",
            "17265.0\n",
            "31929.0\n",
            "21097.0\n",
            "11127.0\n"
          ]
        }
      ]
    },
    {
      "cell_type": "code",
      "source": [
        "validation_label1 = np.delete(validation_label, 0, 0)\n",
        "train_features = np.delete(train_features, 0, axis=0)\n",
        "\n"
      ],
      "metadata": {
        "id": "zxrnVoUrNm8f"
      },
      "execution_count": 40,
      "outputs": []
    },
    {
      "cell_type": "code",
      "source": [
        "numFeatures = len(train_features[0])\n",
        "\n",
        "matrixLikelihood0 = np.zeros(numFeatures)\n",
        "matrixLikelihood1 = np.zeros(numFeatures)\n",
        "matrixLikelihood2 = np.zeros(numFeatures)\n",
        "matrixLikelihood3 = np.zeros(numFeatures)\n",
        "matrixLikelihood4 = np.zeros(numFeatures)\n",
        "\n",
        "matrixLikelihood0 = word_claass_count_prob[:,0] # returns the first columm\n",
        "\n",
        "print(matrixLikelihood0)\n",
        "\n",
        "matrixLikelihood1 = word_claass_count_prob[:,1] # returns the second columm\n",
        "\n",
        "print(matrixLikelihood1)\n",
        "\n",
        "matrixLikelihood2 = word_claass_count_prob[:,2] # returns the third columm\n",
        "\n",
        "print(matrixLikelihood2)\n",
        "\n",
        "matrixLikelihood3 = word_claass_count_prob[:,3] # returns the fourth columm\n",
        "\n",
        "print(matrixLikelihood3)\n",
        "\n",
        "matrixLikelihood4 = word_claass_count_prob[:,4] # returns the fifth columm\n",
        "\n",
        "print(matrixLikelihood4)\n",
        "\n",
        "\n",
        "arr = []\n",
        "\n",
        "for i in range(len(validation_features)):\n",
        "  posterior0 = float(0) + np.log(prior0)\n",
        "  posterior1 = float(0) + np.log(prior1)\n",
        "  posterior2 = float(0) + np.log(prior2)\n",
        "  posterior3 = float(0) + np.log(prior3)\n",
        "  posterior4 = float(0) + np.log(prior4)\n",
        "\n",
        "  \n",
        "  for j in range(numFeatures):\n",
        "\n",
        "  \n",
        "    \n",
        "    posterior0 = posterior0 + float(matrixLikelihood0[j] * validation_features[i][j]) \n",
        "    posterior1 = posterior1 + float(matrixLikelihood1[j] * validation_features[i][j])\n",
        "    posterior2 = posterior2 + float(matrixLikelihood2[j] * validation_features[i][j])\n",
        "    posterior3 = posterior3 + float(matrixLikelihood3[j] * validation_features[i][j])\n",
        "    posterior4 = posterior4 + float(matrixLikelihood4[j] * validation_features[i][j])\n",
        "    \n",
        "  \n",
        "  if posterior0 > (posterior1 and posterior2 and posterior3 and posterior4):\n",
        "\n",
        "    arr.append(0)\n",
        "\n",
        "  elif posterior1 > (posterior0 and posterior2 and posterior3 and posterior4):\n",
        "\n",
        "   \n",
        "    arr.append(1)\n",
        "\n",
        "  elif posterior2 > (posterior1 and posterior0 and posterior3 and posterior4):\n",
        "    \n",
        "    arr.append(2)\n",
        "\n",
        "  elif posterior3 > (posterior1 and posterior2 and posterior0 and posterior4):\n",
        "\n",
        "    \n",
        "    arr.append(3)\n",
        "    \n",
        "\n",
        "  elif posterior4 > (posterior1 and posterior2 and posterior3 and posterior0):\n",
        "\n",
        "    arr.append(4)\n",
        "    "
      ],
      "metadata": {
        "colab": {
          "base_uri": "https://localhost:8080/"
        },
        "id": "qF7iTS_-Nm-0",
        "outputId": "567e18ef-0b51-4003-98de-d2da57d1d06e"
      },
      "execution_count": 41,
      "outputs": [
        {
          "output_type": "stream",
          "name": "stdout",
          "text": [
            "[-7.29394489 -8.99869299 -6.05425401 ... -9.69184017 -9.69184017\n",
            " -9.69184017]\n",
            "[-9.99323684 -8.38379893 -5.03740979 ... -9.99323684 -9.99323684\n",
            " -9.99323684]\n",
            "[-10.50621756  -9.40760527  -5.69403321 ... -10.50621756 -10.50621756\n",
            " -10.50621756]\n",
            "[-10.1546353  -10.1546353   -5.32632156 ... -10.1546353  -10.1546353\n",
            " -10.1546353 ]\n",
            "[-9.66396052 -9.66396052 -5.02923153 ... -8.27766616 -8.27766616\n",
            " -8.27766616]\n"
          ]
        }
      ]
    },
    {
      "cell_type": "code",
      "source": [
        "validation_label_1 = validation_label[:,-1:]\n",
        "validation_label_3 = np.delete(validation_label_1, 0, 0)\n",
        "validation_label_3 = validation_label_3.astype(int)\n",
        "\n",
        "val_labels_1 = validation_label_3.reshape(-1)\n",
        "arr_labels_1 = np.asarray(arr).reshape(-1)\n",
        "print(val_labels_1.shape)\n",
        "print(arr_labels_1.shape)\n",
        "\n",
        "print(val_labels_1)\n",
        "print(arr_labels_1)\n",
        "print(val_labels_1==arr_labels_1)\n",
        "print(np.sum(val_labels_1==arr_labels_1))"
      ],
      "metadata": {
        "colab": {
          "base_uri": "https://localhost:8080/"
        },
        "id": "tV2a7vATNzM6",
        "outputId": "e481e682-07c1-49ad-f3e0-444d2d5f40f2"
      },
      "execution_count": 42,
      "outputs": [
        {
          "output_type": "stream",
          "name": "stdout",
          "text": [
            "(185,)\n",
            "(185,)\n",
            "[4 2 1 2 4 0 0 1 2 2 1 3 1 1 0 3 1 2 3 3 3 1 2 1 3 2 3 4 3 2 3 2 1 1 3 2 2\n",
            " 1 2 1 2 0 1 4 3 4 4 4 2 2 2 4 2 4 0 1 0 1 2 4 0 4 2 0 3 2 1 0 2 3 0 4 0 0\n",
            " 3 1 2 2 4 2 2 2 2 2 1 4 2 2 4 0 1 0 2 4 3 2 1 1 0 1 2 2 2 1 2 1 1 1 1 3 2\n",
            " 1 4 0 3 2 2 3 2 2 1 3 0 1 2 2 2 3 1 1 4 2 1 3 4 3 1 2 2 3 2 3 2 2 4 3 0 2\n",
            " 3 4 3 3 3 2 1 2 0 2 2 2 0 3 2 2 3 2 2 1 2 0 3 1 1 2 0 0 4 2 2 3 2 0 4 2 2]\n",
            "[4 2 1 0 4 0 0 1 2 2 1 2 1 0 0 1 1 0 2 0 2 1 2 0 2 2 2 4 3 2 0 2 0 1 1 2 2\n",
            " 1 0 1 2 0 1 4 3 4 4 4 2 0 2 4 2 4 0 1 0 1 2 4 0 0 2 0 1 2 0 0 2 1 0 4 0 0\n",
            " 0 1 2 2 4 0 2 0 2 0 1 4 2 2 4 0 0 0 2 4 0 0 1 1 0 0 0 2 2 0 0 1 1 1 1 3 2\n",
            " 1 4 0 0 0 2 1 2 2 0 0 0 1 2 2 2 2 1 0 4 0 1 1 4 0 1 2 2 0 0 0 2 2 4 1 0 2\n",
            " 2 4 3 3 1 2 1 2 0 2 2 0 0 1 1 0 0 0 0 1 2 0 0 1 1 2 0 0 4 0 0 0 2 0 4 2 1]\n",
            "[ True  True  True False  True  True  True  True  True  True  True False\n",
            "  True False  True False  True False False False False  True  True False\n",
            " False  True False  True  True  True False  True False  True False  True\n",
            "  True  True False  True  True  True  True  True  True  True  True  True\n",
            "  True False  True  True  True  True  True  True  True  True  True  True\n",
            "  True False  True  True False  True False  True  True False  True  True\n",
            "  True  True False  True  True  True  True False  True False  True False\n",
            "  True  True  True  True  True  True False  True  True  True False False\n",
            "  True  True  True False False  True  True False False  True  True  True\n",
            "  True  True  True  True  True  True False False  True False  True  True\n",
            " False False  True  True  True  True  True False  True False  True False\n",
            "  True False  True False  True  True  True False False False  True  True\n",
            "  True False  True  True False  True  True  True False  True  True  True\n",
            "  True  True  True False  True False False False False False False  True\n",
            "  True  True False  True  True  True  True  True  True False False False\n",
            "  True  True  True  True False]\n",
            "126\n"
          ]
        }
      ]
    },
    {
      "cell_type": "code",
      "source": [
        "def plot_conf(actual, predicted):\n",
        "\n",
        "   \n",
        "    class_number = np.unique(actual)\n",
        "    confusion = np.zeros((5, 5))\n",
        "\n",
        "    for i in range(len(class_number)):\n",
        "        for j in range(len(class_number)):\n",
        "           confusion[i, j] = np.sum((actual == class_number[i]) & (predicted == class_number[j]))\n",
        "\n",
        "    return confusion\n",
        "\n",
        "plot_conf(val_labels_1,arr_labels_1)"
      ],
      "metadata": {
        "colab": {
          "base_uri": "https://localhost:8080/"
        },
        "id": "-SEF_83KPt-m",
        "outputId": "d6e639aa-dbbd-480d-ee49-c1e87cc281ab"
      },
      "execution_count": 43,
      "outputs": [
        {
          "output_type": "execute_result",
          "data": {
            "text/plain": [
              "array([[24.,  0.,  0.,  0.,  0.],\n",
              "       [ 9., 29.,  0.,  0.,  0.],\n",
              "       [19.,  2., 46.,  0.,  0.],\n",
              "       [12.,  9.,  7.,  5.,  0.],\n",
              "       [ 1.,  0.,  0.,  0., 22.]])"
            ]
          },
          "metadata": {},
          "execution_count": 43
        }
      ]
    },
    {
      "cell_type": "code",
      "source": [
        "a = (np.sum(val_labels_1==arr_labels_1))\n",
        "\n",
        "b = len(validation_label3) \n",
        "\n",
        "print(len(validation_label3))\n",
        "\n",
        "acc = (a / b) * 100\n",
        "\n",
        "print(f'Accuracy is {acc}')\n",
        "\n",
        "print(f'Number of false predictions are {b-a}')"
      ],
      "metadata": {
        "colab": {
          "base_uri": "https://localhost:8080/"
        },
        "id": "mzEXPWhXPuA4",
        "outputId": "af9be600-bdeb-4078-d883-2fe8598cf00d"
      },
      "execution_count": 44,
      "outputs": [
        {
          "output_type": "stream",
          "name": "stdout",
          "text": [
            "185\n",
            "Accuracy is 68.10810810810811\n",
            "Number of false predictions are 59\n"
          ]
        }
      ]
    }
  ]
}